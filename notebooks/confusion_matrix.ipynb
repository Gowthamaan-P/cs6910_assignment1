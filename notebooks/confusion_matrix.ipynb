{
 "cells": [
  {
   "cell_type": "markdown",
   "id": "bceb36b6",
   "metadata": {
    "id": "bceb36b6"
   },
   "source": [
    "<div style='text-align: center;'>\n",
    "    <h1>CS6910 Fundamentals of Deep Learning</h1>\n",
    "    <h2>Assignment-1</h2>\n",
    "</div>"
   ]
  },
  {
   "cell_type": "code",
   "execution_count": 1,
   "id": "a54b39a6",
   "metadata": {
    "id": "a54b39a6"
   },
   "outputs": [],
   "source": [
    "# Load all necessary libraries\n",
    "import numpy as np\n",
    "import matplotlib.pyplot as plt\n",
    "from keras.datasets import fashion_mnist\n",
    "import wandb\n",
    "from sklearn.model_selection import train_test_split"
   ]
  },
  {
   "cell_type": "code",
   "execution_count": 22,
   "id": "19230f1f",
   "metadata": {
    "id": "19230f1f"
   },
   "outputs": [],
   "source": [
    "#Random seed to initiate initial weights and bias.\n",
    "#This decides the overall convergence of the model.\n",
    "np.random.seed(27)"
   ]
  },
  {
   "cell_type": "code",
   "execution_count": 23,
   "id": "gkxevYb-oLkq",
   "metadata": {
    "id": "gkxevYb-oLkq"
   },
   "outputs": [],
   "source": [
    "class ObjectiveFunction:\n",
    "    def __init__(self, method):\n",
    "        self.method = method\n",
    "\n",
    "    def get_loss(self, y, y_hat):\n",
    "        if self.method == \"cel\":\n",
    "            return self.cross_entropy_loss(y, y_hat)\n",
    "        elif self.method == \"mse\":\n",
    "            return self.mean_square_error(y, y_hat)\n",
    "\n",
    "    def get_derivative(self, y, y_hat):\n",
    "        if self.method == \"cel\":\n",
    "            return self.cross_entropy_loss_derivative(y, y_hat)\n",
    "        elif self.method == \"mse\":\n",
    "            return self.mean_square_error_derivative(y, y_hat)\n",
    "\n",
    "    def mean_square_error(self, y, y_hat):\n",
    "        return np.sum((y - y_hat) ** 2) / 2\n",
    "\n",
    "    def mean_square_error_derivative(self, y, y_hat):\n",
    "        return y_hat - y\n",
    "\n",
    "    def cross_entropy_loss(self, y, y_hat):\n",
    "        return -np.sum(y * np.log(y_hat))\n",
    "\n",
    "    def cross_entropy_loss_derivative(self, y, y_hat):\n",
    "        return -y/y_hat"
   ]
  },
  {
   "cell_type": "code",
   "execution_count": 24,
   "id": "jsvqbEyBoUvo",
   "metadata": {
    "id": "jsvqbEyBoUvo"
   },
   "outputs": [],
   "source": [
    "class NeuralLayer:\n",
    "    def __init__(self, index, n_input, n_neurons, function=None, weights=None, bias=None, method=\"random\"):\n",
    "        self.index = index\n",
    "        self.function = function if function is not None else 'sigmoid'\n",
    "        self.weights = weights if weights is not None else self.initialize_weights(method, n_input, n_neurons)\n",
    "        self.bias = bias if bias is not None else np.random.randn(n_neurons)\n",
    "        self.activation = None\n",
    "\n",
    "        self.error = None\n",
    "        self.delta = None\n",
    "\n",
    "        self.d_weights = np.zeros([n_input, n_neurons])\n",
    "        self.d_bias = np.zeros(n_neurons)\n",
    "\n",
    "        self.h_weights = np.zeros([n_input, n_neurons])\n",
    "        self.h_bias = np.zeros(n_neurons)\n",
    "        self.m_weights = np.zeros([n_input, n_neurons])\n",
    "        self.m_bias = np.zeros(n_neurons)\n",
    "\n",
    "    def initialize_weights(self, method, n_input, n_neurons):\n",
    "        if method == \"xavier\":\n",
    "            limit = np.sqrt(2 / (n_input + n_neurons))\n",
    "            return np.random.randn(n_input, n_neurons) * limit\n",
    "        return np.random.randn(n_input, n_neurons)\n",
    "\n",
    "    def activate(self, x):\n",
    "        z = np.dot(x, self.weights) + self.bias\n",
    "        self.activation = self._apply_activation(z)\n",
    "        return self.activation\n",
    "\n",
    "    def _apply_activation(self, r):\n",
    "        if self.function == 'sigmoid':\n",
    "            return 1 / (1 + np.exp(-r))\n",
    "        elif self.function == 'tanh':\n",
    "            return np.tanh(r)\n",
    "        elif self.function == 'relu':\n",
    "            return np.maximum(0, r)\n",
    "        elif self.function == 'softmax':\n",
    "            max_r = np.max(r, axis=1)\n",
    "            max_r = max_r.reshape(max_r.shape[0], 1)\n",
    "            exp_r = np.exp(r - max_r)\n",
    "            return exp_r / np.sum(exp_r, axis=1).reshape(exp_r.shape[0], 1)\n",
    "        return r\n",
    "\n",
    "    def apply_activation_derivative(self, z):\n",
    "        if self.function == 'sigmoid':\n",
    "            return z * (1 - z)\n",
    "        elif self.function == 'tanh':\n",
    "            return (z - z**2)\n",
    "        elif self.function == 'relu':\n",
    "            return np.where(z > 0, 1, 0)\n",
    "        elif self.function == 'softmax':\n",
    "            return np.diag(z) - np.outer(z, z)\n",
    "        return np.ones(z.shape)\n",
    "\n",
    "    def __str__(self):\n",
    "        return f'Neural Layer: {self.index}, {self.weights.shape} , {self.function}'"
   ]
  },
  {
   "cell_type": "code",
   "execution_count": 25,
   "id": "wBGUWBFaoZFS",
   "metadata": {
    "id": "wBGUWBFaoZFS"
   },
   "outputs": [],
   "source": [
    "class NeuralNetwork:\n",
    "    def __init__(self, config):\n",
    "        def get_value(key, default):\n",
    "            return config[key] if key in config else default\n",
    "\n",
    "        self.layers = []\n",
    "\n",
    "        self.criterion = get_value('criterion', 'cel')\n",
    "        self.weight_initialization = get_value('weight_initialization', 'random')\n",
    "\n",
    "        self.c = ObjectiveFunction(method=self.criterion)\n",
    "\n",
    "        self.add_layers(config['input_size'],\n",
    "                         config['hidden_layers'],\n",
    "                         config['output_size'],\n",
    "                         config['neurons'],\n",
    "                         config['activation'],\n",
    "                         config['output_activation']\n",
    "                        )\n",
    "\n",
    "    def forward(self, x):\n",
    "        for layer in self.layers:\n",
    "            x = layer.activate(x)\n",
    "        return x\n",
    "\n",
    "    def backward(self, x, y, y_hat):\n",
    "        for i in reversed(range(len(self.layers))):\n",
    "            layer = self.layers[i]\n",
    "            if layer == self.layers[-1]:\n",
    "                layer.error = self.c.get_derivative(y, y_hat)\n",
    "                output_derivative_matrix = []\n",
    "                for i in range(y_hat.shape[0]):\n",
    "                    output_derivative_matrix.append(np.matmul(\n",
    "                        self.c.get_derivative(y[i], y_hat[i]),\n",
    "                        layer.apply_activation_derivative(y_hat[i])\n",
    "                    ))\n",
    "                layer.delta = np.array(output_derivative_matrix)\n",
    "            else:\n",
    "                next_layer = self.layers[i + 1]\n",
    "                layer.error = np.matmul(next_layer.delta, next_layer.weights.T)\n",
    "                layer.delta = layer.error * layer.apply_activation_derivative(layer.activation)\n",
    "\n",
    "\n",
    "        for i in range(len(self.layers)):\n",
    "            layer = self.layers[i]\n",
    "            activation = np.atleast_2d(x if i == 0 else self.layers[i - 1].activation)\n",
    "            layer.d_weights = np.matmul(activation.T, layer.delta)/y.shape[0]\n",
    "            layer.d_bias = np.sum(layer.delta, axis=0)/y.shape[0]\n",
    "\n",
    "    def add_layers(self, input_size, hidden_layers, output_size, neurons, activation, output_activation):\n",
    "        for i in range(0, hidden_layers+1):\n",
    "            n_input = input_size if i==0 else neurons\n",
    "            n_neurons = output_size if i==hidden_layers else neurons\n",
    "            self.layers.append(NeuralLayer(\n",
    "                index=i+1,\n",
    "                n_input=n_input,\n",
    "                n_neurons=n_neurons,\n",
    "                function= output_activation if i==hidden_layers else activation,\n",
    "                method=self.weight_initialization\n",
    "                )\n",
    "            )"
   ]
  },
  {
   "cell_type": "code",
   "execution_count": 26,
   "id": "Q-kDCRnVodjl",
   "metadata": {
    "id": "Q-kDCRnVodjl"
   },
   "outputs": [],
   "source": [
    "class Optimizer:\n",
    "    def __init__(self, nn:NeuralNetwork, config=None):\n",
    "        self.nn, self.lr, self.optimizer = nn, config['learning_rate'], config['optimizer']\n",
    "        self.beta, self.epsilon, self.beta1, self.beta2= config['beta'], config['epsilon'], config['beta1'], config['beta2']\n",
    "        self.timestep = 0\n",
    "        self.decay = config['decay']\n",
    "\n",
    "    def step(self):\n",
    "        if(self.optimizer == \"sgd\"):\n",
    "            self.sgd()\n",
    "        elif(self.optimizer == \"momentum\"):\n",
    "            self.momentum()\n",
    "        elif(self.optimizer == \"nag\"):\n",
    "            self.nag()\n",
    "        elif(self.optimizer == \"rmsprop\"):\n",
    "            self.rmsprop()\n",
    "        elif(self.optimizer == \"adam\"):\n",
    "            self.adam()\n",
    "        elif (self.optimizer == \"nadam\"):\n",
    "            self.nadam()\n",
    "\n",
    "    def sgd(self):\n",
    "        for layer in self.nn.layers:\n",
    "            layer.weights -= self.lr*(layer.d_weights + self.decay*layer.weights)\n",
    "            layer.bias -= self.lr*(layer.d_bias + self.decay*layer.bias)\n",
    "\n",
    "    def momentum(self):\n",
    "        for layer in self.nn.layers:\n",
    "            layer.h_weights = self.beta*layer.h_weights + layer.d_weights\n",
    "            layer.h_bias = self.beta*layer.h_bias + layer.d_bias\n",
    "            layer.weights -= self.lr*(layer.h_weights + self.decay*layer.weights)\n",
    "            layer.bias -= self.lr*(layer.h_bias + self.decay*layer.bias)\n",
    "\n",
    "    def nag(self):\n",
    "        for layer in self.nn.layers:\n",
    "            layer.h_weights = self.beta*layer.h_weights + layer.d_weights\n",
    "            layer.h_bias = self.beta*layer.h_bias + layer.d_bias\n",
    "            layer.weights -= self.lr * (self.beta * layer.h_weights + layer.d_weights + self.decay * layer.weights)\n",
    "            layer.bias -= self.lr * (self.beta * layer.h_bias + layer.d_bias + self.decay * layer.bias)\n",
    "\n",
    "    def rmsprop(self):\n",
    "        for layer in self.nn.layers:\n",
    "            layer.h_weights = self.beta * layer.h_weights + (1 - self.beta) * layer.d_weights**2\n",
    "            layer.h_bias = self.beta * layer.h_bias + (1 - self.beta) * layer.d_bias**2\n",
    "            layer.weights -= (self.lr / (np.sqrt(layer.h_weights) + self.epsilon)) * layer.d_weights + self.decay * layer.weights * self.lr\n",
    "            layer.bias -= (self.lr / (np.sqrt(layer.h_bias) + self.epsilon)) * layer.d_bias + self.decay * layer.bias * self.lr\n",
    "\n",
    "    def adam(self):\n",
    "        for layer in self.nn.layers:\n",
    "            layer.m_weights = self.beta1 * layer.m_weights + (1 - self.beta1) * layer.d_weights\n",
    "            layer.m_bias = self.beta1 * layer.m_bias + (1 - self.beta1) * layer.d_bias\n",
    "            layer.h_weights = self.beta2 * layer.h_weights + (1 - self.beta2) * layer.d_weights**2\n",
    "            layer.h_bias = self.beta2 * layer.h_bias + (1 - self.beta2) * layer.d_bias**2\n",
    "            correction_term1 = 1/(1 - self.beta1**(self.timestep + 1))\n",
    "            correction_term2 = 1/(1 - self.beta2**(self.timestep + 1))\n",
    "            weights_hat1 = layer.m_weights * correction_term1\n",
    "            bias_hat1 = layer.m_bias * correction_term1\n",
    "            weights_hat2 = layer.h_weights * correction_term2\n",
    "            bias_hat2 = layer.h_bias * correction_term2\n",
    "            layer.weights -= self.lr * (weights_hat1 / ((np.sqrt(weights_hat2)) + self.epsilon)) + self.decay * layer.weights * self.lr\n",
    "            layer.bias -= self.lr * (bias_hat1 / ((np.sqrt(bias_hat2)) + self.epsilon)) + self.decay * layer.bias * self.lr\n",
    "\n",
    "    def nadam(self):\n",
    "        for layer in self.nn.layers:\n",
    "            layer.m_weights = self.beta1 * layer.m_weights + (1 - self.beta1) * layer.d_weights\n",
    "            layer.m_bias = self.beta1 * layer.m_bias + (1 - self.beta1) * layer.d_bias\n",
    "            layer.h_weights = self.beta2 * layer.h_weights + (1 - self.beta2) * layer.d_weights**2\n",
    "            layer.h_bias = self.beta2 * layer.h_bias + (1 - self.beta2) * layer.d_bias**2\n",
    "            correction_term1 = 1/(1 - self.beta1**(self.timestep + 1))\n",
    "            correction_term2 = 1/(1 - self.beta2**(self.timestep + 1))\n",
    "            weights_hat1 = layer.m_weights * correction_term1\n",
    "            bias_hat1 = layer.m_bias * correction_term1\n",
    "            weights_hat2 = layer.h_weights * correction_term2\n",
    "            bias_hat2 = layer.h_bias * correction_term2\n",
    "            combined_weight_update = self.beta1 * weights_hat1 + ((1 - self.beta1) / (1 - self.beta1 ** (self.timestep + 1))) * layer.d_weights\n",
    "            combined_bias_update = self.beta1 * bias_hat1 + ((1 - self.beta1) / (1 - self.beta1 ** (self.timestep + 1))) * layer.d_bias\n",
    "            layer.weights -= self.lr * (combined_weight_update / ((np.sqrt(weights_hat2)) + self.epsilon)) + self.decay * layer.weights * self.lr\n",
    "            layer.bias -= self.lr * (combined_bias_update / ((np.sqrt(bias_hat2)) + self.epsilon)) + self.decay * layer.bias * self.lr"
   ]
  },
  {
   "cell_type": "code",
   "execution_count": 27,
   "id": "c3818874",
   "metadata": {
    "colab": {
     "base_uri": "https://localhost:8080/"
    },
    "id": "c3818874",
    "outputId": "2384d094-6f50-4c53-a9e0-35268d0be5e4"
   },
   "outputs": [],
   "source": [
    "# Load Input Data\n",
    "(train_images, train_labels), (test_images, test_labels) = fashion_mnist.load_data()\n",
    "\n",
    "# Flatten the images\n",
    "train_images = train_images.reshape(train_images.shape[0], 784) / 255\n",
    "X_test = test_images.reshape(test_images.shape[0], 784) / 255\n",
    "\n",
    "# Encode the labels\n",
    "train_labels = np.eye(10)[train_labels]\n",
    "Y_test = np.eye(10)[test_labels]\n",
    "\n",
    "# Prepare data for training and validation\n",
    "X_train, X_val, Y_train, Y_val = train_test_split(train_images, train_labels, test_size=0.1, shuffle=True, random_state=27)"
   ]
  },
  {
   "cell_type": "code",
   "execution_count": 28,
   "id": "uF6P8kRsoFMp",
   "metadata": {
    "id": "uF6P8kRsoFMp"
   },
   "outputs": [],
   "source": [
    "def accuracy(y, y_hat):\n",
    "    accuracy = np.mean(np.argmax(y, axis=1)==np.argmax(y_hat, axis=1))\n",
    "    return accuracy"
   ]
  },
  {
   "cell_type": "code",
   "execution_count": 29,
   "id": "9ccfe436",
   "metadata": {},
   "outputs": [],
   "source": [
    "def train(config):\n",
    "    train_loss_hist = []\n",
    "    train_accuracy_hist = []\n",
    "    val_loss_hist = []\n",
    "    val_accuracy_hist = []\n",
    "    \n",
    "    nn = NeuralNetwork(config)\n",
    "    optimizer = Optimizer(nn=nn, config=config)\n",
    "    \n",
    "    batch_size = config['batch_size']\n",
    "    criterion = ObjectiveFunction(method = config['criterion'])\n",
    "    \n",
    "    for epoch in range(config['epochs']):\n",
    "        for batch in range(0, X_train.shape[0], batch_size):\n",
    "            # Get the batch of data\n",
    "            X_batch = X_train[batch:batch+batch_size]\n",
    "            Y_batch = Y_train[batch:batch+batch_size]\n",
    "\n",
    "            Y_hat_batch = nn.forward(X_batch)\n",
    "            nn.backward(X_batch, Y_batch, Y_hat_batch)\n",
    "            optimizer.step()\n",
    "        \n",
    "        optimizer.timestep += 1\n",
    "        \n",
    "        # Training\n",
    "        Y_hat_train = nn.forward(X_train)\n",
    "        train_loss = criterion.get_loss(Y_train, Y_hat_train)\n",
    "        train_accuracy = np.sum(np.argmax(Y_hat_train, axis=1) == np.argmax(Y_train, axis=1)) / Y_train.shape[0]\n",
    "            \n",
    "        # Validation\n",
    "        Y_hat_val = nn.forward(X_val)\n",
    "        val_loss = criterion.get_loss(Y_val, Y_hat_val)\n",
    "        val_accuracy = np.sum(np.argmax(Y_hat_val, axis=1) == np.argmax(Y_val, axis=1)) / Y_val.shape[0]\n",
    "        \n",
    "        print(\"Epoch {} Train Loss {} Train Accuracy {} Val Loss {} Val Accuracy {}\".format(epoch, train_loss, train_accuracy, val_loss, val_accuracy))\n",
    "   \n",
    "        train_loss_hist.append(train_loss)\n",
    "        train_accuracy_hist.append(train_accuracy)\n",
    "        val_loss_hist.append(val_loss)\n",
    "        val_accuracy_hist.append(val_accuracy)\n",
    "    \n",
    "    return nn"
   ]
  },
  {
   "cell_type": "code",
   "execution_count": 36,
   "id": "4426a788",
   "metadata": {},
   "outputs": [],
   "source": [
    "network_config = {\n",
    "    'input_size': 784,\n",
    "    'output_size': 10,\n",
    "    'hidden_layers': 5,\n",
    "    'neurons':128,\n",
    "    'activation':'relu',\n",
    "    'output_activation':'softmax',\n",
    "    'learning_rate': 0.01,\n",
    "    'beta': 0.8,\n",
    "    'beta1': 0.9,\n",
    "    'beta2':0.9999,\n",
    "    'epsilon': 1e-8,\n",
    "    'epochs': 10,\n",
    "    'optimizer': \"adam\",\n",
    "    'criterion': \"cel\",\n",
    "    'decay': 0.0005,\n",
    "    'weight_initialization': \"xavier\",\n",
    "    'batch_size': 64,\n",
    "}"
   ]
  },
  {
   "cell_type": "code",
   "execution_count": 37,
   "id": "51406b97",
   "metadata": {
    "scrolled": true
   },
   "outputs": [
    {
     "name": "stdout",
     "output_type": "stream",
     "text": [
      "Epoch 0 Train Loss 22464.704269970338 Train Accuracy 0.8501851851851852 Val Loss 2726.2918552676097 Val Accuracy 0.8373333333333334\n",
      "Epoch 1 Train Loss 19494.264216627376 Train Accuracy 0.8676481481481482 Val Loss 2428.896002180486 Val Accuracy 0.8495\n",
      "Epoch 2 Train Loss 18227.718732715344 Train Accuracy 0.8758148148148148 Val Loss 2354.5164141281066 Val Accuracy 0.8541666666666666\n",
      "Epoch 3 Train Loss 17260.85392752606 Train Accuracy 0.8810740740740741 Val Loss 2292.619953840376 Val Accuracy 0.8588333333333333\n",
      "Epoch 4 Train Loss 16783.007776580016 Train Accuracy 0.8844444444444445 Val Loss 2291.3624426331066 Val Accuracy 0.8608333333333333\n",
      "Epoch 5 Train Loss 16058.716379354459 Train Accuracy 0.889462962962963 Val Loss 2250.293376087364 Val Accuracy 0.8628333333333333\n",
      "Epoch 6 Train Loss 15623.711566201597 Train Accuracy 0.8926666666666667 Val Loss 2226.6460786820658 Val Accuracy 0.8675\n",
      "Epoch 7 Train Loss 15242.908048613941 Train Accuracy 0.8952592592592593 Val Loss 2219.099459299869 Val Accuracy 0.8663333333333333\n",
      "Epoch 8 Train Loss 14856.647817271414 Train Accuracy 0.8978148148148148 Val Loss 2224.050693025488 Val Accuracy 0.867\n",
      "Epoch 9 Train Loss 14534.525718635427 Train Accuracy 0.9002962962962963 Val Loss 2219.920265202441 Val Accuracy 0.8688333333333333\n"
     ]
    }
   ],
   "source": [
    "nn = train(network_config)"
   ]
  },
  {
   "cell_type": "code",
   "execution_count": 13,
   "id": "2087afe7",
   "metadata": {},
   "outputs": [
    {
     "name": "stderr",
     "output_type": "stream",
     "text": [
      "Failed to detect the name of this notebook, you can set it manually with the WANDB_NOTEBOOK_NAME environment variable to enable code saving.\n",
      "\u001b[34m\u001b[1mwandb\u001b[0m: W&B API key is configured. Use \u001b[1m`wandb login --relogin`\u001b[0m to force relogin\n",
      "\u001b[34m\u001b[1mwandb\u001b[0m: \u001b[33mWARNING\u001b[0m If you're specifying your api key in code, ensure this code is not shared publicly.\n",
      "\u001b[34m\u001b[1mwandb\u001b[0m: \u001b[33mWARNING\u001b[0m Consider setting the WANDB_API_KEY environment variable, or running `wandb login` from the command line.\n",
      "\u001b[34m\u001b[1mwandb\u001b[0m: Appending key for api.wandb.ai to your netrc file: C:\\Users\\ravig\\.netrc\n",
      "\u001b[34m\u001b[1mwandb\u001b[0m: Currently logged in as: \u001b[33med23s037\u001b[0m. Use \u001b[1m`wandb login --relogin`\u001b[0m to force relogin\n"
     ]
    },
    {
     "data": {
      "application/vnd.jupyter.widget-view+json": {
       "model_id": "e86f901ae05f4f3eaa5f72e710c216de",
       "version_major": 2,
       "version_minor": 0
      },
      "text/plain": [
       "VBox(children=(Label(value='Waiting for wandb.init()...\\r'), FloatProgress(value=0.011111111111111112, max=1.0…"
      ]
     },
     "metadata": {},
     "output_type": "display_data"
    },
    {
     "data": {
      "text/html": [
       "Tracking run with wandb version 0.16.4"
      ],
      "text/plain": [
       "<IPython.core.display.HTML object>"
      ]
     },
     "metadata": {},
     "output_type": "display_data"
    },
    {
     "data": {
      "text/html": [
       "Run data is saved locally in <code>G:\\IITM\\Courses\\CS6910 FDL\\Assignments\\Assignment - 1\\notebooks\\wandb\\run-20240320_195128-lh3o0kpq</code>"
      ],
      "text/plain": [
       "<IPython.core.display.HTML object>"
      ]
     },
     "metadata": {},
     "output_type": "display_data"
    },
    {
     "data": {
      "text/html": [
       "Syncing run <strong><a href='https://wandb.ai/ed23s037/CS6910_AS1/runs/lh3o0kpq' target=\"_blank\">sweet-frost-1204</a></strong> to <a href='https://wandb.ai/ed23s037/CS6910_AS1' target=\"_blank\">Weights & Biases</a> (<a href='https://wandb.me/run' target=\"_blank\">docs</a>)<br/>"
      ],
      "text/plain": [
       "<IPython.core.display.HTML object>"
      ]
     },
     "metadata": {},
     "output_type": "display_data"
    },
    {
     "data": {
      "text/html": [
       " View project at <a href='https://wandb.ai/ed23s037/CS6910_AS1' target=\"_blank\">https://wandb.ai/ed23s037/CS6910_AS1</a>"
      ],
      "text/plain": [
       "<IPython.core.display.HTML object>"
      ]
     },
     "metadata": {},
     "output_type": "display_data"
    },
    {
     "data": {
      "text/html": [
       " View run at <a href='https://wandb.ai/ed23s037/CS6910_AS1/runs/lh3o0kpq' target=\"_blank\">https://wandb.ai/ed23s037/CS6910_AS1/runs/lh3o0kpq</a>"
      ],
      "text/plain": [
       "<IPython.core.display.HTML object>"
      ]
     },
     "metadata": {},
     "output_type": "display_data"
    }
   ],
   "source": [
    "wandb.login(key='5da0c161a9c9720f15195bb6e9f05e44c45112d1')\n",
    "wandb.init(project=\"CS6910_AS1\", entity='ed23s037')\n",
    "wandb.config.update(network_config)"
   ]
  },
  {
   "cell_type": "code",
   "execution_count": 15,
   "id": "135acfa0",
   "metadata": {},
   "outputs": [],
   "source": [
    "y_pred_train = nn.forward(X_train)\n",
    "y_pred_test = nn.forward(X_test)\n",
    "\n",
    "y_true_train = np.argmax(Y_train, axis=1)\n",
    "y_true_test = np.argmax(Y_test, axis=1)\n",
    "preds_train = np.argmax(y_pred_train, axis=1)\n",
    "preds_test = np.argmax(y_pred_test, axis=1)"
   ]
  },
  {
   "cell_type": "code",
   "execution_count": 16,
   "id": "21a39c5a",
   "metadata": {},
   "outputs": [
    {
     "data": {
      "application/vnd.jupyter.widget-view+json": {
       "model_id": "55e469f2370448f1ad09672e5e7a8c90",
       "version_major": 2,
       "version_minor": 0
      },
      "text/plain": [
       "VBox(children=(Label(value='0.019 MB of 0.019 MB uploaded\\r'), FloatProgress(value=1.0, max=1.0)))"
      ]
     },
     "metadata": {},
     "output_type": "display_data"
    },
    {
     "data": {
      "text/html": [
       " View run <strong style=\"color:#cdcd00\">sweet-frost-1204</strong> at: <a href='https://wandb.ai/ed23s037/CS6910_AS1/runs/lh3o0kpq' target=\"_blank\">https://wandb.ai/ed23s037/CS6910_AS1/runs/lh3o0kpq</a><br/>Synced 5 W&B file(s), 3 media file(s), 3 artifact file(s) and 0 other file(s)"
      ],
      "text/plain": [
       "<IPython.core.display.HTML object>"
      ]
     },
     "metadata": {},
     "output_type": "display_data"
    },
    {
     "data": {
      "text/html": [
       "Find logs at: <code>.\\wandb\\run-20240320_195128-lh3o0kpq\\logs</code>"
      ],
      "text/plain": [
       "<IPython.core.display.HTML object>"
      ]
     },
     "metadata": {},
     "output_type": "display_data"
    }
   ],
   "source": [
    "# Class Names\n",
    "CLASS_NAMES = ['T-shirt/top', 'Trouser', 'Pullover', 'Dress', 'Coat', 'Sandal', 'Shirt', 'Sneaker', 'Bag', 'Ankle boot']\n",
    "\n",
    "# Confusion Matrix Plot\n",
    "wandb.log({'confusion_matrix_train': wandb.plot.confusion_matrix(probs=None, y_true=y_true_train, preds=preds_train, class_names=CLASS_NAMES)})\n",
    "wandb.log({'confusion_matrix': wandb.plot.confusion_matrix(probs=None, y_true=y_true_test, preds=preds_test, class_names=CLASS_NAMES)})\n",
    "\n",
    "wandb.log({'confusion_matrix_sklearn': wandb.sklearn.plot_confusion_matrix(y_true_test, preds_test, CLASS_NAMES)})\n",
    "\n",
    "wandb.finish()"
   ]
  },
  {
   "cell_type": "code",
   "execution_count": 18,
   "id": "7cd5266e",
   "metadata": {},
   "outputs": [
    {
     "data": {
      "image/png": "[encoded data removed]",
      "text/plain": [
       "<Figure size 576x432 with 2 Axes>"
      ]
     },
     "metadata": {
      "needs_background": "light"
     },
     "output_type": "display_data"
    }
   ],
   "source": [
    "from sklearn.decomposition import PCA\n",
    "from sklearn.manifold import TSNE\n",
    "import matplotlib.pyplot as plt\n",
    "\n",
    "# Load the Fashion MNIST dataset\n",
    "(X_train, y_train), (X_test, y_test) = fashion_mnist.load_data()\n",
    "\n",
    "# Optional: Flatten the images if they are not already flattened\n",
    "X_train = X_train.reshape(X_train.shape[0], -1)\n",
    "X_test = X_test.reshape(X_test.shape[0], -1)\n",
    "\n",
    "# 1. Dimensionality Reduction with PCA and Scatter Plot\n",
    "\n",
    "# Reduce dimensions to 2 for visualization (you can adjust this)\n",
    "pca = PCA(n_components=2)\n",
    "pca.fit(X_train)\n",
    "X_train_pca = pca.transform(X_train)\n",
    "\n",
    "# Create a scatter plot of the PCA transformed data\n",
    "plt.figure(figsize=(8, 6))\n",
    "plt.scatter(X_train_pca[:, 0], X_train_pca[:, 1], c=y_train, cmap='viridis')\n",
    "plt.title(\"Fashion MNIST Classes - PCA (2D)\")\n",
    "plt.xlabel(\"Principal Component 1\")\n",
    "plt.ylabel(\"Principal Component 2\")\n",
    "plt.colorbar(label='Class')\n",
    "plt.show()"
   ]
  },
  {
   "cell_type": "code",
   "execution_count": null,
   "id": "67905b42",
   "metadata": {},
   "outputs": [],
   "source": []
  }
 ],
 "metadata": {
  "colab": {
   "provenance": []
  },
  "kernelspec": {
   "display_name": "Python 3",
   "language": "python",
   "name": "python3"
  },
  "language_info": {
   "codemirror_mode": {
    "name": "ipython",
    "version": 3
   },
   "file_extension": ".py",
   "mimetype": "text/x-python",
   "name": "python",
   "nbconvert_exporter": "python",
   "pygments_lexer": "ipython3",
   "version": "3.8.8"
  },
  "widgets": {
   "application/vnd.jupyter.widget-state+json": {
    "02b5e2d901a94159b8db7c3cbaf9e7de": {
     "model_module": "@jupyter-widgets/controls",
     "model_module_version": "1.5.0",
     "model_name": "DescriptionStyleModel",
     "state": {
      "_model_module": "@jupyter-widgets/controls",
      "_model_module_version": "1.5.0",
      "_model_name": "DescriptionStyleModel",
      "_view_count": null,
      "_view_module": "@jupyter-widgets/base",
      "_view_module_version": "1.2.0",
      "_view_name": "StyleView",
      "description_width": ""
     }
    },
    "090c52c16fb84b509923b99b2ba2e0fe": {
     "model_module": "@jupyter-widgets/base",
     "model_module_version": "1.2.0",
     "model_name": "LayoutModel",
     "state": {
      "_model_module": "@jupyter-widgets/base",
      "_model_module_version": "1.2.0",
      "_model_name": "LayoutModel",
      "_view_count": null,
      "_view_module": "@jupyter-widgets/base",
      "_view_module_version": "1.2.0",
      "_view_name": "LayoutView",
      "align_content": null,
      "align_items": null,
      "align_self": null,
      "border": null,
      "bottom": null,
      "display": null,
      "flex": null,
      "flex_flow": null,
      "grid_area": null,
      "grid_auto_columns": null,
      "grid_auto_flow": null,
      "grid_auto_rows": null,
      "grid_column": null,
      "grid_gap": null,
      "grid_row": null,
      "grid_template_areas": null,
      "grid_template_columns": null,
      "grid_template_rows": null,
      "height": null,
      "justify_content": null,
      "justify_items": null,
      "left": null,
      "margin": null,
      "max_height": null,
      "max_width": null,
      "min_height": null,
      "min_width": null,
      "object_fit": null,
      "object_position": null,
      "order": null,
      "overflow": null,
      "overflow_x": null,
      "overflow_y": null,
      "padding": null,
      "right": null,
      "top": null,
      "visibility": null,
      "width": null
     }
    },
    "20c7d937300843739c2c15c9463c8166": {
     "model_module": "@jupyter-widgets/controls",
     "model_module_version": "1.5.0",
     "model_name": "ProgressStyleModel",
     "state": {
      "_model_module": "@jupyter-widgets/controls",
      "_model_module_version": "1.5.0",
      "_model_name": "ProgressStyleModel",
      "_view_count": null,
      "_view_module": "@jupyter-widgets/base",
      "_view_module_version": "1.2.0",
      "_view_name": "StyleView",
      "bar_color": null,
      "description_width": ""
     }
    },
    "215b0d7b69df4dcb95790eb4c96e0be5": {
     "model_module": "@jupyter-widgets/controls",
     "model_module_version": "1.5.0",
     "model_name": "FloatProgressModel",
     "state": {
      "_dom_classes": [],
      "_model_module": "@jupyter-widgets/controls",
      "_model_module_version": "1.5.0",
      "_model_name": "FloatProgressModel",
      "_view_count": null,
      "_view_module": "@jupyter-widgets/controls",
      "_view_module_version": "1.5.0",
      "_view_name": "ProgressView",
      "bar_style": "",
      "description": "",
      "description_tooltip": null,
      "layout": "IPY_MODEL_a2c3cb8749fe4634a099b24cc0910048",
      "max": 1,
      "min": 0,
      "orientation": "horizontal",
      "style": "IPY_MODEL_895d277dfd5c4b0d8b92f5bd3871c831",
      "value": 1
     }
    },
    "28914de62bd94fa3acbb0153bd850544": {
     "model_module": "@jupyter-widgets/controls",
     "model_module_version": "1.5.0",
     "model_name": "DescriptionStyleModel",
     "state": {
      "_model_module": "@jupyter-widgets/controls",
      "_model_module_version": "1.5.0",
      "_model_name": "DescriptionStyleModel",
      "_view_count": null,
      "_view_module": "@jupyter-widgets/base",
      "_view_module_version": "1.2.0",
      "_view_name": "StyleView",
      "description_width": ""
     }
    },
    "30d3066019f2474ebb56b058896abbac": {
     "model_module": "@jupyter-widgets/base",
     "model_module_version": "1.2.0",
     "model_name": "LayoutModel",
     "state": {
      "_model_module": "@jupyter-widgets/base",
      "_model_module_version": "1.2.0",
      "_model_name": "LayoutModel",
      "_view_count": null,
      "_view_module": "@jupyter-widgets/base",
      "_view_module_version": "1.2.0",
      "_view_name": "LayoutView",
      "align_content": null,
      "align_items": null,
      "align_self": null,
      "border": null,
      "bottom": null,
      "display": null,
      "flex": null,
      "flex_flow": null,
      "grid_area": null,
      "grid_auto_columns": null,
      "grid_auto_flow": null,
      "grid_auto_rows": null,
      "grid_column": null,
      "grid_gap": null,
      "grid_row": null,
      "grid_template_areas": null,
      "grid_template_columns": null,
      "grid_template_rows": null,
      "height": null,
      "justify_content": null,
      "justify_items": null,
      "left": null,
      "margin": null,
      "max_height": null,
      "max_width": null,
      "min_height": null,
      "min_width": null,
      "object_fit": null,
      "object_position": null,
      "order": null,
      "overflow": null,
      "overflow_x": null,
      "overflow_y": null,
      "padding": null,
      "right": null,
      "top": null,
      "visibility": null,
      "width": null
     }
    },
    "396ea9d956bd4e65b41d702913399f80": {
     "model_module": "@jupyter-widgets/controls",
     "model_module_version": "1.5.0",
     "model_name": "FloatProgressModel",
     "state": {
      "_dom_classes": [],
      "_model_module": "@jupyter-widgets/controls",
      "_model_module_version": "1.5.0",
      "_model_name": "FloatProgressModel",
      "_view_count": null,
      "_view_module": "@jupyter-widgets/controls",
      "_view_module_version": "1.5.0",
      "_view_name": "ProgressView",
      "bar_style": "",
      "description": "",
      "description_tooltip": null,
      "layout": "IPY_MODEL_3de2d5811369473b8e05f7f6c34baf0f",
      "max": 1,
      "min": 0,
      "orientation": "horizontal",
      "style": "IPY_MODEL_20c7d937300843739c2c15c9463c8166",
      "value": 1
     }
    },
    "3de2d5811369473b8e05f7f6c34baf0f": {
     "model_module": "@jupyter-widgets/base",
     "model_module_version": "1.2.0",
     "model_name": "LayoutModel",
     "state": {
      "_model_module": "@jupyter-widgets/base",
      "_model_module_version": "1.2.0",
      "_model_name": "LayoutModel",
      "_view_count": null,
      "_view_module": "@jupyter-widgets/base",
      "_view_module_version": "1.2.0",
      "_view_name": "LayoutView",
      "align_content": null,
      "align_items": null,
      "align_self": null,
      "border": null,
      "bottom": null,
      "display": null,
      "flex": null,
      "flex_flow": null,
      "grid_area": null,
      "grid_auto_columns": null,
      "grid_auto_flow": null,
      "grid_auto_rows": null,
      "grid_column": null,
      "grid_gap": null,
      "grid_row": null,
      "grid_template_areas": null,
      "grid_template_columns": null,
      "grid_template_rows": null,
      "height": null,
      "justify_content": null,
      "justify_items": null,
      "left": null,
      "margin": null,
      "max_height": null,
      "max_width": null,
      "min_height": null,
      "min_width": null,
      "object_fit": null,
      "object_position": null,
      "order": null,
      "overflow": null,
      "overflow_x": null,
      "overflow_y": null,
      "padding": null,
      "right": null,
      "top": null,
      "visibility": null,
      "width": null
     }
    },
    "42313a63c1da4335bbff62c4fc197247": {
     "model_module": "@jupyter-widgets/base",
     "model_module_version": "1.2.0",
     "model_name": "LayoutModel",
     "state": {
      "_model_module": "@jupyter-widgets/base",
      "_model_module_version": "1.2.0",
      "_model_name": "LayoutModel",
      "_view_count": null,
      "_view_module": "@jupyter-widgets/base",
      "_view_module_version": "1.2.0",
      "_view_name": "LayoutView",
      "align_content": null,
      "align_items": null,
      "align_self": null,
      "border": null,
      "bottom": null,
      "display": null,
      "flex": null,
      "flex_flow": null,
      "grid_area": null,
      "grid_auto_columns": null,
      "grid_auto_flow": null,
      "grid_auto_rows": null,
      "grid_column": null,
      "grid_gap": null,
      "grid_row": null,
      "grid_template_areas": null,
      "grid_template_columns": null,
      "grid_template_rows": null,
      "height": null,
      "justify_content": null,
      "justify_items": null,
      "left": null,
      "margin": null,
      "max_height": null,
      "max_width": null,
      "min_height": null,
      "min_width": null,
      "object_fit": null,
      "object_position": null,
      "order": null,
      "overflow": null,
      "overflow_x": null,
      "overflow_y": null,
      "padding": null,
      "right": null,
      "top": null,
      "visibility": null,
      "width": null
     }
    },
    "42644af78cc543a88305146f3660b662": {
     "model_module": "@jupyter-widgets/controls",
     "model_module_version": "1.5.0",
     "model_name": "LabelModel",
     "state": {
      "_dom_classes": [],
      "_model_module": "@jupyter-widgets/controls",
      "_model_module_version": "1.5.0",
      "_model_name": "LabelModel",
      "_view_count": null,
      "_view_module": "@jupyter-widgets/controls",
      "_view_module_version": "1.5.0",
      "_view_name": "LabelView",
      "description": "",
      "description_tooltip": null,
      "layout": "IPY_MODEL_a2bbec57c89a42e6b786aef1072fb6e3",
      "placeholder": "​",
      "style": "IPY_MODEL_28914de62bd94fa3acbb0153bd850544",
      "value": "Waiting for wandb.init()...\r"
     }
    },
    "6c34838ccb2c43e4bd8133d5b7cfb19c": {
     "model_module": "@jupyter-widgets/base",
     "model_module_version": "1.2.0",
     "model_name": "LayoutModel",
     "state": {
      "_model_module": "@jupyter-widgets/base",
      "_model_module_version": "1.2.0",
      "_model_name": "LayoutModel",
      "_view_count": null,
      "_view_module": "@jupyter-widgets/base",
      "_view_module_version": "1.2.0",
      "_view_name": "LayoutView",
      "align_content": null,
      "align_items": null,
      "align_self": null,
      "border": null,
      "bottom": null,
      "display": null,
      "flex": null,
      "flex_flow": null,
      "grid_area": null,
      "grid_auto_columns": null,
      "grid_auto_flow": null,
      "grid_auto_rows": null,
      "grid_column": null,
      "grid_gap": null,
      "grid_row": null,
      "grid_template_areas": null,
      "grid_template_columns": null,
      "grid_template_rows": null,
      "height": null,
      "justify_content": null,
      "justify_items": null,
      "left": null,
      "margin": null,
      "max_height": null,
      "max_width": null,
      "min_height": null,
      "min_width": null,
      "object_fit": null,
      "object_position": null,
      "order": null,
      "overflow": null,
      "overflow_x": null,
      "overflow_y": null,
      "padding": null,
      "right": null,
      "top": null,
      "visibility": null,
      "width": null
     }
    },
    "70980d37a23c4c53b79fe672a9339829": {
     "model_module": "@jupyter-widgets/controls",
     "model_module_version": "1.5.0",
     "model_name": "FloatProgressModel",
     "state": {
      "_dom_classes": [],
      "_model_module": "@jupyter-widgets/controls",
      "_model_module_version": "1.5.0",
      "_model_name": "FloatProgressModel",
      "_view_count": null,
      "_view_module": "@jupyter-widgets/controls",
      "_view_module_version": "1.5.0",
      "_view_name": "ProgressView",
      "bar_style": "",
      "description": "",
      "description_tooltip": null,
      "layout": "IPY_MODEL_30d3066019f2474ebb56b058896abbac",
      "max": 1,
      "min": 0,
      "orientation": "horizontal",
      "style": "IPY_MODEL_dd433b39b436476096c64a344dd7dde2",
      "value": 1
     }
    },
    "7652b248863940898bbd7420a2b24478": {
     "model_module": "@jupyter-widgets/controls",
     "model_module_version": "1.5.0",
     "model_name": "VBoxModel",
     "state": {
      "_dom_classes": [],
      "_model_module": "@jupyter-widgets/controls",
      "_model_module_version": "1.5.0",
      "_model_name": "VBoxModel",
      "_view_count": null,
      "_view_module": "@jupyter-widgets/controls",
      "_view_module_version": "1.5.0",
      "_view_name": "VBoxView",
      "box_style": "",
      "children": [
       "IPY_MODEL_9e092d21749a4536960749275917cf7c",
       "IPY_MODEL_70980d37a23c4c53b79fe672a9339829"
      ],
      "layout": "IPY_MODEL_d8f48f52b7904ce08c11fb9ae951926a"
     }
    },
    "895d277dfd5c4b0d8b92f5bd3871c831": {
     "model_module": "@jupyter-widgets/controls",
     "model_module_version": "1.5.0",
     "model_name": "ProgressStyleModel",
     "state": {
      "_model_module": "@jupyter-widgets/controls",
      "_model_module_version": "1.5.0",
      "_model_name": "ProgressStyleModel",
      "_view_count": null,
      "_view_module": "@jupyter-widgets/base",
      "_view_module_version": "1.2.0",
      "_view_name": "StyleView",
      "bar_color": null,
      "description_width": ""
     }
    },
    "9bbe817dfa1e4d749b53d23275d32fca": {
     "model_module": "@jupyter-widgets/controls",
     "model_module_version": "1.5.0",
     "model_name": "VBoxModel",
     "state": {
      "_dom_classes": [],
      "_model_module": "@jupyter-widgets/controls",
      "_model_module_version": "1.5.0",
      "_model_name": "VBoxModel",
      "_view_count": null,
      "_view_module": "@jupyter-widgets/controls",
      "_view_module_version": "1.5.0",
      "_view_name": "VBoxView",
      "box_style": "",
      "children": [
       "IPY_MODEL_42644af78cc543a88305146f3660b662",
       "IPY_MODEL_215b0d7b69df4dcb95790eb4c96e0be5"
      ],
      "layout": "IPY_MODEL_090c52c16fb84b509923b99b2ba2e0fe"
     }
    },
    "9e092d21749a4536960749275917cf7c": {
     "model_module": "@jupyter-widgets/controls",
     "model_module_version": "1.5.0",
     "model_name": "LabelModel",
     "state": {
      "_dom_classes": [],
      "_model_module": "@jupyter-widgets/controls",
      "_model_module_version": "1.5.0",
      "_model_name": "LabelModel",
      "_view_count": null,
      "_view_module": "@jupyter-widgets/controls",
      "_view_module_version": "1.5.0",
      "_view_name": "LabelView",
      "description": "",
      "description_tooltip": null,
      "layout": "IPY_MODEL_ffa0dd6bcb1c445cb9a964f6daed9de7",
      "placeholder": "​",
      "style": "IPY_MODEL_e33a1b52ca364d9ea377c14b5d7b0270",
      "value": "0.011 MB of 0.011 MB uploaded\r"
     }
    },
    "a2bbec57c89a42e6b786aef1072fb6e3": {
     "model_module": "@jupyter-widgets/base",
     "model_module_version": "1.2.0",
     "model_name": "LayoutModel",
     "state": {
      "_model_module": "@jupyter-widgets/base",
      "_model_module_version": "1.2.0",
      "_model_name": "LayoutModel",
      "_view_count": null,
      "_view_module": "@jupyter-widgets/base",
      "_view_module_version": "1.2.0",
      "_view_name": "LayoutView",
      "align_content": null,
      "align_items": null,
      "align_self": null,
      "border": null,
      "bottom": null,
      "display": null,
      "flex": null,
      "flex_flow": null,
      "grid_area": null,
      "grid_auto_columns": null,
      "grid_auto_flow": null,
      "grid_auto_rows": null,
      "grid_column": null,
      "grid_gap": null,
      "grid_row": null,
      "grid_template_areas": null,
      "grid_template_columns": null,
      "grid_template_rows": null,
      "height": null,
      "justify_content": null,
      "justify_items": null,
      "left": null,
      "margin": null,
      "max_height": null,
      "max_width": null,
      "min_height": null,
      "min_width": null,
      "object_fit": null,
      "object_position": null,
      "order": null,
      "overflow": null,
      "overflow_x": null,
      "overflow_y": null,
      "padding": null,
      "right": null,
      "top": null,
      "visibility": null,
      "width": null
     }
    },
    "a2c3cb8749fe4634a099b24cc0910048": {
     "model_module": "@jupyter-widgets/base",
     "model_module_version": "1.2.0",
     "model_name": "LayoutModel",
     "state": {
      "_model_module": "@jupyter-widgets/base",
      "_model_module_version": "1.2.0",
      "_model_name": "LayoutModel",
      "_view_count": null,
      "_view_module": "@jupyter-widgets/base",
      "_view_module_version": "1.2.0",
      "_view_name": "LayoutView",
      "align_content": null,
      "align_items": null,
      "align_self": null,
      "border": null,
      "bottom": null,
      "display": null,
      "flex": null,
      "flex_flow": null,
      "grid_area": null,
      "grid_auto_columns": null,
      "grid_auto_flow": null,
      "grid_auto_rows": null,
      "grid_column": null,
      "grid_gap": null,
      "grid_row": null,
      "grid_template_areas": null,
      "grid_template_columns": null,
      "grid_template_rows": null,
      "height": null,
      "justify_content": null,
      "justify_items": null,
      "left": null,
      "margin": null,
      "max_height": null,
      "max_width": null,
      "min_height": null,
      "min_width": null,
      "object_fit": null,
      "object_position": null,
      "order": null,
      "overflow": null,
      "overflow_x": null,
      "overflow_y": null,
      "padding": null,
      "right": null,
      "top": null,
      "visibility": null,
      "width": null
     }
    },
    "d8f48f52b7904ce08c11fb9ae951926a": {
     "model_module": "@jupyter-widgets/base",
     "model_module_version": "1.2.0",
     "model_name": "LayoutModel",
     "state": {
      "_model_module": "@jupyter-widgets/base",
      "_model_module_version": "1.2.0",
      "_model_name": "LayoutModel",
      "_view_count": null,
      "_view_module": "@jupyter-widgets/base",
      "_view_module_version": "1.2.0",
      "_view_name": "LayoutView",
      "align_content": null,
      "align_items": null,
      "align_self": null,
      "border": null,
      "bottom": null,
      "display": null,
      "flex": null,
      "flex_flow": null,
      "grid_area": null,
      "grid_auto_columns": null,
      "grid_auto_flow": null,
      "grid_auto_rows": null,
      "grid_column": null,
      "grid_gap": null,
      "grid_row": null,
      "grid_template_areas": null,
      "grid_template_columns": null,
      "grid_template_rows": null,
      "height": null,
      "justify_content": null,
      "justify_items": null,
      "left": null,
      "margin": null,
      "max_height": null,
      "max_width": null,
      "min_height": null,
      "min_width": null,
      "object_fit": null,
      "object_position": null,
      "order": null,
      "overflow": null,
      "overflow_x": null,
      "overflow_y": null,
      "padding": null,
      "right": null,
      "top": null,
      "visibility": null,
      "width": null
     }
    },
    "dcb69f594ed3423194a2f4d2c53f4dfd": {
     "model_module": "@jupyter-widgets/controls",
     "model_module_version": "1.5.0",
     "model_name": "VBoxModel",
     "state": {
      "_dom_classes": [],
      "_model_module": "@jupyter-widgets/controls",
      "_model_module_version": "1.5.0",
      "_model_name": "VBoxModel",
      "_view_count": null,
      "_view_module": "@jupyter-widgets/controls",
      "_view_module_version": "1.5.0",
      "_view_name": "VBoxView",
      "box_style": "",
      "children": [
       "IPY_MODEL_df86776da5e143f5af1628601230a776",
       "IPY_MODEL_396ea9d956bd4e65b41d702913399f80"
      ],
      "layout": "IPY_MODEL_42313a63c1da4335bbff62c4fc197247"
     }
    },
    "dd433b39b436476096c64a344dd7dde2": {
     "model_module": "@jupyter-widgets/controls",
     "model_module_version": "1.5.0",
     "model_name": "ProgressStyleModel",
     "state": {
      "_model_module": "@jupyter-widgets/controls",
      "_model_module_version": "1.5.0",
      "_model_name": "ProgressStyleModel",
      "_view_count": null,
      "_view_module": "@jupyter-widgets/base",
      "_view_module_version": "1.2.0",
      "_view_name": "StyleView",
      "bar_color": null,
      "description_width": ""
     }
    },
    "df86776da5e143f5af1628601230a776": {
     "model_module": "@jupyter-widgets/controls",
     "model_module_version": "1.5.0",
     "model_name": "LabelModel",
     "state": {
      "_dom_classes": [],
      "_model_module": "@jupyter-widgets/controls",
      "_model_module_version": "1.5.0",
      "_model_name": "LabelModel",
      "_view_count": null,
      "_view_module": "@jupyter-widgets/controls",
      "_view_module_version": "1.5.0",
      "_view_name": "LabelView",
      "description": "",
      "description_tooltip": null,
      "layout": "IPY_MODEL_6c34838ccb2c43e4bd8133d5b7cfb19c",
      "placeholder": "​",
      "style": "IPY_MODEL_02b5e2d901a94159b8db7c3cbaf9e7de",
      "value": "0.011 MB of 0.011 MB uploaded\r"
     }
    },
    "e33a1b52ca364d9ea377c14b5d7b0270": {
     "model_module": "@jupyter-widgets/controls",
     "model_module_version": "1.5.0",
     "model_name": "DescriptionStyleModel",
     "state": {
      "_model_module": "@jupyter-widgets/controls",
      "_model_module_version": "1.5.0",
      "_model_name": "DescriptionStyleModel",
      "_view_count": null,
      "_view_module": "@jupyter-widgets/base",
      "_view_module_version": "1.2.0",
      "_view_name": "StyleView",
      "description_width": ""
     }
    },
    "ffa0dd6bcb1c445cb9a964f6daed9de7": {
     "model_module": "@jupyter-widgets/base",
     "model_module_version": "1.2.0",
     "model_name": "LayoutModel",
     "state": {
      "_model_module": "@jupyter-widgets/base",
      "_model_module_version": "1.2.0",
      "_model_name": "LayoutModel",
      "_view_count": null,
      "_view_module": "@jupyter-widgets/base",
      "_view_module_version": "1.2.0",
      "_view_name": "LayoutView",
      "align_content": null,
      "align_items": null,
      "align_self": null,
      "border": null,
      "bottom": null,
      "display": null,
      "flex": null,
      "flex_flow": null,
      "grid_area": null,
      "grid_auto_columns": null,
      "grid_auto_flow": null,
      "grid_auto_rows": null,
      "grid_column": null,
      "grid_gap": null,
      "grid_row": null,
      "grid_template_areas": null,
      "grid_template_columns": null,
      "grid_template_rows": null,
      "height": null,
      "justify_content": null,
      "justify_items": null,
      "left": null,
      "margin": null,
      "max_height": null,
      "max_width": null,
      "min_height": null,
      "min_width": null,
      "object_fit": null,
      "object_position": null,
      "order": null,
      "overflow": null,
      "overflow_x": null,
      "overflow_y": null,
      "padding": null,
      "right": null,
      "top": null,
      "visibility": null,
      "width": null
     }
    }
   }
  }
 },
 "nbformat": 4,
 "nbformat_minor": 5
}
